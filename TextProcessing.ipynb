{
 "cells": [
  {
   "cell_type": "code",
   "execution_count": null,
   "metadata": {},
   "outputs": [],
   "source": [
    "# import libraries\n",
    "import json\n",
    "\n",
    "import spacy"
   ]
  },
  {
   "cell_type": "code",
   "execution_count": null,
   "metadata": {},
   "outputs": [],
   "source": [
    "# load data\n",
    "with open(\"data/data.json\") as file:\n",
    "    data = json.load(file)"
   ]
  },
  {
   "cell_type": "code",
   "execution_count": null,
   "metadata": {},
   "outputs": [],
   "source": [
    "# spacy english model (small)\n",
    "nlp = spacy.load(\"en_core_web_sm\")\n",
    "\n",
    "\n",
    "def tokenizer(text):\n",
    "    # lower cases the text string\n",
    "    text_lower = text.lower()\n",
    "\n",
    "    # create spacy document object\n",
    "    main_doc = nlp(text_lower)\n",
    "    # print(type(main_doc))\n",
    "\n",
    "    # removing StopWords and punctuations\n",
    "    main_doc_cleaned = [token for token in main_doc if not token.is_stop and not token.is_punct]\n",
    "\n",
    "    # lemmatizing the tokens of a doc\n",
    "    main_doc_lemma = [token.lemma_ for token in main_doc_cleaned]\n",
    "\n",
    "    return main_doc_lemma"
   ]
  },
  {
   "cell_type": "code",
   "execution_count": null,
   "metadata": {},
   "outputs": [],
   "source": [
    "data_list = []\n",
    "with open(\"data/data_new.json\", \"w\") as fp:\n",
    "    for i in data:\n",
    "        main_doc_lemmas = tokenizer(i[\"text\"])\n",
    "        i[\"tokenized_text\"] = main_doc_lemmas\n",
    "        data_list.append(i)\n",
    "    json.dump(data_list, fp)"
   ]
  }
 ],
 "metadata": {
  "kernelspec": {
   "display_name": "Python 3",
   "language": "python",
   "name": "python3"
  },
  "language_info": {
   "codemirror_mode": {
    "name": "ipython",
    "version": 3
   },
   "file_extension": ".py",
   "mimetype": "text/x-python",
   "name": "python",
   "nbconvert_exporter": "python",
   "pygments_lexer": "ipython3",
   "version": "3.6.9"
  }
 },
 "nbformat": 4,
 "nbformat_minor": 2
}
